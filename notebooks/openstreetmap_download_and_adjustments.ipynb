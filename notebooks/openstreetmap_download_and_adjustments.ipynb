{
 "cells": [
  {
   "attachments": {},
   "cell_type": "markdown",
   "id": "45072a1b",
   "metadata": {},
   "source": [
    "# Load Open Street Maps Data\n",
    "\n",
    "This notebook is aimed to demonstrate how we obtain spatial data on power transmission lines. Our main data source are the Open Street Maps datasets. The `download_osm_data.py` script is used to extract OSM data for a world area requested by a user. The `config_osm_data.py` contains configuration data needed for such an extraction."
   ]
  },
  {
   "attachments": {},
   "cell_type": "markdown",
   "id": "cb9bb658",
   "metadata": {},
   "source": [
    "## Set working folder"
   ]
  },
  {
   "cell_type": "code",
   "execution_count": 1,
   "id": "98cecfff",
   "metadata": {},
   "outputs": [],
   "source": [
    "# change current directory to parent folder\n",
    "import os\n",
    "import sys\n",
    "\n",
    "if not os.path.isdir(\"pypsa-earth\"):\n",
    "    os.chdir(\"../..\")\n",
    "sys.path.append(os.getcwd()+\"/pypsa-earth/scripts\")"
   ]
  },
  {
   "attachments": {},
   "cell_type": "markdown",
   "id": "c3271862",
   "metadata": {},
   "source": [
    "## Import nessesary packages\n",
    "\n",
    "Load Python packages and set visibility options:"
   ]
  },
  {
   "cell_type": "code",
   "execution_count": 2,
   "id": "9efb61cd",
   "metadata": {},
   "outputs": [],
   "source": [
    "import logging\n",
    "import sys\n",
    "import pandas as pd\n",
    "import requests\n",
    "import urllib3\n",
    "import time\n",
    "\n",
    "pd.set_option(\"display.max_columns\", None)\n",
    "pd.set_option(\"display.max_colwidth\", 70)\n",
    "\n",
    "logger = logging.getLogger(__name__)"
   ]
  },
  {
   "attachments": {},
   "cell_type": "markdown",
   "id": "6e49b76f",
   "metadata": {},
   "source": [
    "Load local packages written to load OSM data:"
   ]
  },
  {
   "cell_type": "code",
   "execution_count": 3,
   "id": "fd7c4412",
   "metadata": {},
   "outputs": [],
   "source": [
    "from config_osm_data import continent_regions, continents, iso_to_geofk_dict, world_iso"
   ]
  },
  {
   "attachments": {},
   "cell_type": "markdown",
   "id": "e88dfd30",
   "metadata": {},
   "source": [
    "## Management of geographical data\n",
    "\n",
    "OSM data are being organized by continents, macroregions and countries. Input data on country codes should correspond to ISO standard and be transformed into a valid OSM data request.\n",
    "\n",
    "The `world_iso` Python two-levels dictionaries are used to keep data on such organization according to ISO conventions. Define a couple of supplementary functions to work with these data structures. The first one `list_countries()` transforms an input dictionary into a list while the second `getContinentCountry()` retrieves the continent and country names by the country code."
   ]
  },
  {
   "cell_type": "code",
   "execution_count": 4,
   "id": "0a09e736",
   "metadata": {},
   "outputs": [],
   "source": [
    "def list_countries(w_dc):\n",
    "    countries_list = []\n",
    "\n",
    "    for continent in w_dc:\n",
    "        country = w_dc[continent]\n",
    "        countries_list.append(list(country.keys()))\n",
    "\n",
    "    return countries_list\n",
    "\n",
    "\n",
    "def getContinentCountry(code):\n",
    "    for continent in world_iso:\n",
    "        country = world_iso[continent].get(code, 0)\n",
    "        if country:\n",
    "            return continent, country\n",
    "    return continent, country\n",
    "\n",
    "\n",
    "list_word_iso_countries = list_countries(world_iso)"
   ]
  },
  {
   "attachments": {},
   "cell_type": "markdown",
   "id": "66151180",
   "metadata": {},
   "source": [
    "### Tackle ISO-OSM differences\n",
    "\n",
    "Let's transform the list of ISO codes into a set"
   ]
  },
  {
   "cell_type": "code",
   "execution_count": 5,
   "id": "85495bcf",
   "metadata": {},
   "outputs": [],
   "source": [
    "iso_set = set(sum(list_word_iso_countries, []))"
   ]
  },
  {
   "attachments": {},
   "cell_type": "markdown",
   "id": "be315ccd",
   "metadata": {},
   "source": [
    "However, in OSM data of selected countries are grouped together.\n",
    "The full list is provided into the `iso_to_geofk_dict` dictionary, where the keys of the dictionary correspond to the ISO codes and the corresponding values denote the geofabrik code that contains the corresponding information. For more details on the accepted geofabrik codes, please refer to the `earth-osm` documentation."
   ]
  },
  {
   "cell_type": "code",
   "execution_count": 6,
   "id": "c084ff39",
   "metadata": {},
   "outputs": [
    {
     "data": {
      "text/plain": [
       "{'EH': 'MA',\n",
       " 'SN': 'SN-GM',\n",
       " 'GM': 'SN-GM',\n",
       " 'KM': 'comores',\n",
       " 'SG': 'MY',\n",
       " 'BN': 'MY',\n",
       " 'SA': 'QA-AE-OM-BH-KW',\n",
       " 'KW': 'QA-AE-OM-BH-KW',\n",
       " 'BH': 'QA-AE-OM-BH-KW',\n",
       " 'QA': 'QA-AE-OM-BH-KW',\n",
       " 'AE': 'QA-AE-OM-BH-KW',\n",
       " 'OM': 'QA-AE-OM-BH-KW',\n",
       " 'PS': 'PS-IL',\n",
       " 'IL': 'PS-IL',\n",
       " 'SM': 'IT',\n",
       " 'VA': 'IT',\n",
       " 'HT': 'haiti-and-domrep',\n",
       " 'DO': 'haiti-and-domrep',\n",
       " 'PA': 'panama',\n",
       " 'NF': 'AU',\n",
       " 'MP': 'american-oceania',\n",
       " 'GU': 'american-oceania',\n",
       " 'AS': 'american-oceania',\n",
       " 'CP': 'ile-de-clipperton',\n",
       " 'PF': 'polynesie-francaise',\n",
       " 'VU': 'vanuatu',\n",
       " 'TK': 'tokelau',\n",
       " 'MH': 'marshall-islands',\n",
       " 'PN': 'pitcairn-islands',\n",
       " 'WF': 'wallis-et-futuna',\n",
       " 'XK': 'RS-KM',\n",
       " 'BS': 'bahamas',\n",
       " 'BB': 'central-america',\n",
       " 'CU': 'cuba',\n",
       " 'RE': 'reunion',\n",
       " 'YT': 'mayotte',\n",
       " 'GG': 'guernsey-jersey',\n",
       " 'JE': 'guernsey-jersey',\n",
       " 'IM': 'isle-of-man',\n",
       " 'GP': 'guadeloupe',\n",
       " 'JM': 'jamaica',\n",
       " 'TT': 'central-america',\n",
       " 'AG': 'central-america',\n",
       " 'DM': 'central-america',\n",
       " 'LC': 'central-america',\n",
       " 'VC': 'central-america',\n",
       " 'KN': 'central-america',\n",
       " 'GD': 'central-america',\n",
       " 'FK': 'south-america'}"
      ]
     },
     "execution_count": 6,
     "metadata": {},
     "output_type": "execute_result"
    }
   ],
   "source": [
    "iso_to_geofk_dict"
   ]
  },
  {
   "attachments": {},
   "cell_type": "markdown",
   "id": "dbd2f8d2",
   "metadata": {},
   "source": [
    "### Work with macroregions\n",
    "\n",
    "A built-in `continent_regions` dictionary contains shortcuts for different regions of the world. To see how it works, let's unpack and hold unique country codes only:"
   ]
  },
  {
   "cell_type": "code",
   "execution_count": 7,
   "id": "563e3f7f",
   "metadata": {},
   "outputs": [],
   "source": [
    "macro_regions_list = list(dict(**continent_regions).values())\n",
    "# flatten list and keep unique elements only\n",
    "macro_reg_set = set(sum(macro_regions_list, []))"
   ]
  },
  {
   "attachments": {},
   "cell_type": "markdown",
   "id": "3ecebbe3",
   "metadata": {},
   "source": [
    "The macro regions dictionary contains fewer countries as compared with the whole ISO world countries set:"
   ]
  },
  {
   "cell_type": "code",
   "execution_count": 8,
   "id": "a69d8a9f",
   "metadata": {},
   "outputs": [
    {
     "name": "stdout",
     "output_type": "stream",
     "text": [
      "199\n",
      "215\n"
     ]
    }
   ],
   "source": [
    "print(len(macro_reg_set))\n",
    "print(len(iso_set))"
   ]
  },
  {
   "attachments": {},
   "cell_type": "markdown",
   "id": "8e15efaf",
   "metadata": {},
   "source": [
    "The missed country codes can be translated into a plain language with `getContinentCountry()` transformation function:"
   ]
  },
  {
   "cell_type": "code",
   "execution_count": 9,
   "id": "38273943",
   "metadata": {},
   "outputs": [
    {
     "name": "stdout",
     "output_type": "stream",
     "text": [
      "('Oceania', 'niue')\n",
      "('Africa', 'canary-islands')\n",
      "('Europe', 'kosovo')\n",
      "('Europe', 'jersey')\n",
      "('Oceania', 'cook-islands')\n",
      "('Europe', 'isle of man')\n",
      "('SouthAmerica', 'falkland-islands')\n",
      "('Oceania', 'tokelau')\n",
      "('NorthAmerica', 'guadeloupe')\n",
      "('Oceania', 'ile-de-clipperton')\n",
      "('Oceania', 'pitcairn-islands')\n",
      "('Europe', 'faroe islands')\n",
      "('NorthAmerica', 'puerto-rico')\n",
      "('Africa', 'mayotte')\n",
      "('Oceania', 'french-polynesia')\n",
      "('Oceania', 'guam')\n",
      "('Oceania', 'northern-mariana-islands')\n",
      "('Oceania', 'american-samoa')\n",
      "('Europe', 'vatican')\n",
      "('Africa', 'reunion')\n",
      "('Oceania', 'wallis-and-futuna')\n",
      "('Oceania', 'norfolk-island')\n",
      "('Europe', 'guernsey')\n"
     ]
    }
   ],
   "source": [
    "for cnt in list(iso_set - macro_reg_set):\n",
    "    print(getContinentCountry(cnt))"
   ]
  },
  {
   "attachments": {},
   "cell_type": "markdown",
   "id": "1d0533ba",
   "metadata": {},
   "source": [
    "Spatial data on Somalia, Guinea-Bissau and Guyane do not yet present in OSM."
   ]
  },
  {
   "attachments": {},
   "cell_type": "markdown",
   "id": "549ade7c",
   "metadata": {},
   "source": [
    "### Work with continents codes\n",
    "\n",
    "Note that there are three kinds of input for the regions:\n",
    "1) a two-digit ISO country code `world_iso`\n",
    "2) a shortcut for a world region `continent_regions`\n",
    "3) a full name of the continent which should correspond to one of the `world_iso` keys"
   ]
  },
  {
   "cell_type": "code",
   "execution_count": 10,
   "id": "1b902146",
   "metadata": {},
   "outputs": [
    {
     "name": "stdout",
     "output_type": "stream",
     "text": [
      "dict_keys(['Africa', 'Asia', 'Oceania', 'Europe', 'NorthAmerica', 'SouthAmerica'])\n"
     ]
    }
   ],
   "source": [
    "print(world_iso.keys())"
   ]
  },
  {
   "attachments": {},
   "cell_type": "markdown",
   "id": "9f7ba613",
   "metadata": {},
   "source": [
    "There are continents ISO codes as well:"
   ]
  },
  {
   "cell_type": "code",
   "execution_count": 11,
   "id": "5441493b",
   "metadata": {
    "scrolled": true
   },
   "outputs": [
    {
     "name": "stdout",
     "output_type": "stream",
     "text": [
      "{'LA': 'NorthAmerica', 'SA': 'SouthAmerica', 'AS': 'Asia', 'OC': 'Oceania', 'AF': 'Africa', 'EU': 'Europe'}\n"
     ]
    }
   ],
   "source": [
    "print(continents)"
   ]
  },
  {
   "attachments": {},
   "cell_type": "markdown",
   "id": "1fecc38b",
   "metadata": {},
   "source": [
    "But continents codes can't be used as geographical inputs as they have some intersections with the countries codes:"
   ]
  },
  {
   "cell_type": "code",
   "execution_count": 12,
   "id": "6a348038",
   "metadata": {},
   "outputs": [
    {
     "name": "stdout",
     "output_type": "stream",
     "text": [
      "AF ('Asia', 'afghanistan')\n",
      "LA ('Asia', \"lao-people's-democratic-republic\")\n",
      "AS ('Oceania', 'american-samoa')\n",
      "SA ('Asia', 'saudi-arabia')\n"
     ]
    }
   ],
   "source": [
    "for cnt in set(continents).intersection(iso_set):\n",
    "    print(cnt, getContinentCountry(cnt))"
   ]
  },
  {
   "attachments": {},
   "cell_type": "markdown",
   "id": "04d9d634",
   "metadata": {},
   "source": [
    "# Check Availability of OSM data\n",
    "\n",
    "The requested geographical code is used to construct an url to request OSM data from the GeoFabrik server. The url consists of the continent and country names defined according to the GeoFabrik conventions. OSM naming is kept in the `iso_to_geofk_dict` dictionary as explained above. A `get_continent_geofk()` function is defined to identify the format of the continent in the geofabrik format. A valid (hopefully) url is formed with a function `build_url()` to find a needed data chunk on the GeoFabrik server."
   ]
  },
  {
   "cell_type": "code",
   "execution_count": 13,
   "id": "88a5e6e1",
   "metadata": {},
   "outputs": [],
   "source": [
    "def get_continent_geofk(cnt):\n",
    "    dict_format = {\n",
    "        \"africa\": \"africa\",\n",
    "        \"northamerica\"\n",
    "    }\n",
    "\n",
    "\n",
    "def build_url(country_code, update, verify, iso_to_geofk_dict=iso_to_geofk_dict):\n",
    "    continent, country_name = getContinentCountry(country_code)\n",
    "    if country_code in iso_to_geofk_dict:\n",
    "        geofabrik_filename = f\"{iso_to_geofk_dict[country_code]}-latest.osm.pbf\"\n",
    "    else:\n",
    "        geofabrik_filename = f\"{country_name}-latest.osm.pbf\"\n",
    "    \n",
    "    geofabrik_url = f\"https://download.geofabrik.de/{continent.lower()}/{geofabrik_filename}\"\n",
    "    return geofabrik_url"
   ]
  },
  {
   "attachments": {},
   "cell_type": "markdown",
   "id": "72fd1784",
   "metadata": {},
   "source": [
    "Check how OSM data access work. As an example we'll take only three countries from the codes list as too often requests can cause some troubles:"
   ]
  },
  {
   "cell_type": "code",
   "execution_count": 14,
   "id": "984f4606",
   "metadata": {
    "scrolled": true
   },
   "outputs": [
    {
     "name": "stdout",
     "output_type": "stream",
     "text": [
      "('Africa', 'morocco')\n",
      "https://download.geofabrik.de/Africa/morocco-latest.osm.pbf\n",
      "There some troubles with https://download.geofabrik.de/Africa/morocco-latest.osm.pbf Error code:404\n",
      "('Africa', 'nigeria')\n",
      "https://download.geofabrik.de/Africa/nigeria-latest.osm.pbf\n",
      "There some troubles with https://download.geofabrik.de/Africa/nigeria-latest.osm.pbf Error code:404\n"
     ]
    }
   ],
   "source": [
    "problem_urls = []\n",
    "problem_codes = []\n",
    "problem_domain = []\n",
    "\n",
    "# flatten list; test Morocco and Nigeria\n",
    "test_geofk_codes = [\"MA\", \"NG\"]\n",
    "\n",
    "for cnt in test_geofk_codes:\n",
    "    print(getContinentCountry(cnt))\n",
    "    url = build_url(country_code=cnt, update=False, verify=False)\n",
    "    print(url)\n",
    "    time.sleep(5)\n",
    "\n",
    "    with requests.get(url, stream=True, verify=True) as r:\n",
    "        request = requests.head(url)\n",
    "        if r.status_code == 200:\n",
    "            print(\"URL '\" + url + \"' is working\")\n",
    "        else:\n",
    "            problem_urls.append(url)\n",
    "            problem_codes.append(cnt)\n",
    "            problem_domain.append(getContinentCountry(cnt))\n",
    "\n",
    "            if r.status_code == 429:\n",
    "                print(\n",
    "                    \"Error code:\"\n",
    "                    + str(r.status_code)\n",
    "                    + \". The pause between loads should be increased.\"\n",
    "                )\n",
    "            else:\n",
    "                print(\n",
    "                    \"There some troubles with \"\n",
    "                    + url\n",
    "                    + \" Error code:\"\n",
    "                    + str(r.status_code)\n",
    "                )"
   ]
  },
  {
   "attachments": {},
   "cell_type": "markdown",
   "id": "bdcec273",
   "metadata": {},
   "source": [
    "Having a look on the results of our shortened check:"
   ]
  },
  {
   "cell_type": "code",
   "execution_count": 15,
   "id": "bdff2ef7",
   "metadata": {},
   "outputs": [
    {
     "name": "stdout",
     "output_type": "stream",
     "text": [
      "There were troubles in reaching following urls:\n",
      "['https://download.geofabrik.de/Africa/morocco-latest.osm.pbf', 'https://download.geofabrik.de/Africa/nigeria-latest.osm.pbf']\n",
      "Country codes to be checked:\n",
      "['MA', 'NG']\n",
      "[('Africa', 'morocco'), ('Africa', 'nigeria')]\n"
     ]
    }
   ],
   "source": [
    "if len(problem_urls) > 0:\n",
    "    print(\"There were troubles in reaching following urls:\")\n",
    "    print(problem_urls)\n",
    "    print(\"Country codes to be checked:\")\n",
    "    print(problem_codes)\n",
    "    print(problem_domain)\n",
    "else:\n",
    "    print(\"All requested urls are available\")"
   ]
  }
 ],
 "metadata": {
  "kernelspec": {
   "display_name": "Python 3.9.13 ('pypsa-earth')",
   "language": "python",
   "name": "python3"
  },
  "language_info": {
   "codemirror_mode": {
    "name": "ipython",
    "version": 3
   },
   "file_extension": ".py",
   "mimetype": "text/x-python",
   "name": "python",
   "nbconvert_exporter": "python",
   "pygments_lexer": "ipython3",
   "version": "3.8.16"
  },
  "vscode": {
   "interpreter": {
    "hash": "4bfd0647aac9d6062a08fe26bbfffd40985f1731d368a98fdd492e2c963157f6"
   }
  }
 },
 "nbformat": 4,
 "nbformat_minor": 5
}
