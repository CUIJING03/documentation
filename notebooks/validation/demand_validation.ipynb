{
 "cells": [
  {
   "attachments": {},
   "cell_type": "markdown",
   "metadata": {},
   "source": [
    "# Validation of the PyPSA-Africa Electric Demand\n",
    "\n",
    "This notebooks investigates the data quality of the African electric consumption\n",
    "data by comparing PyPSA, official Nigerian and Our World in Data (incl. BP & Ember).\n",
    "\n",
    "To reproduce the findings obtained in this notebook,\n",
    "please run the full snakemake workflow for the Africa.\n",
    "To do so, please set ``countries = [\"Africa\"]`` in the ``config.yaml`` file.\n",
    "\n",
    "Note. An unoptimized prepared network is sufficient for this notebook. "
   ]
  },
  {
   "attachments": {},
   "cell_type": "markdown",
   "metadata": {},
   "source": [
    "## Preparation"
   ]
  },
  {
   "attachments": {},
   "cell_type": "markdown",
   "metadata": {},
   "source": [
    "### Import packages"
   ]
  },
  {
   "cell_type": "code",
   "execution_count": 1,
   "metadata": {},
   "outputs": [],
   "source": [
    "# import packages\n",
    "\n",
    "import logging\n",
    "import os\n",
    "\n",
    "import pypsa\n",
    "import numpy as np\n",
    "import matplotlib.pyplot as plt\n",
    "import pandas as pd\n",
    "\n",
    "logger = logging.getLogger(__name__)\n",
    "\n",
    "pd.set_option(\"display.max_columns\", None)\n",
    "pd.set_option(\"display.max_colwidth\", 70)"
   ]
  },
  {
   "attachments": {},
   "cell_type": "markdown",
   "metadata": {},
   "source": [
    "### Set main directory to root folder"
   ]
  },
  {
   "cell_type": "code",
   "execution_count": 2,
   "metadata": {},
   "outputs": [
    {
     "name": "stdout",
     "output_type": "stream",
     "text": [
      "This is the repository path:  /home/anas/EDF/pypsa-earth-project\n",
      "Had to go 3 folder(s) up.\n"
     ]
    }
   ],
   "source": [
    "# change current directory to parent folder\n",
    "import os\n",
    "import sys\n",
    "\n",
    "if not os.path.isdir(\"pypsa-earth\"):\n",
    "    os.chdir(\"../../..\")\n",
    "sys.path.append(os.getcwd()+\"/pypsa-earth/scripts\")\n",
    "    \n",
    "from _helpers import three_2_two_digits_country, two_2_three_digits_country"
   ]
  },
  {
   "attachments": {},
   "cell_type": "markdown",
   "metadata": {},
   "source": [
    "## 1. Load data "
   ]
  },
  {
   "attachments": {},
   "cell_type": "markdown",
   "metadata": {},
   "source": [
    "#### Our World in Data\n",
    "Retrieved from their GitHub: https://github.com/owid/energy-data/tree/master \\\n",
    "Web interface: https://ourworldindata.org/energy \n",
    "\n",
    "Our data sources:\n",
    "- Energy consumption (primary energy, energy mix and energy intensity): this data is sourced from a combination of three sources—the BP Statistical Review of World Energy, the EIA and the SHIFT Data Portal.\n",
    "- Electricity generation (electricity generation, and electricity mix): this data is sourced from a combination of three sources—the BP Statistical Review of World Energy, the Ember – Data Explorer and the Ember European Electricity Review.\n",
    "- Other variables: this data is collected from a variety of sources (United Nations, World Bank, Gapminder, Maddison Project Database, etc.). More information is available in our codebook.\n"
   ]
  },
  {
   "cell_type": "code",
   "execution_count": 3,
   "metadata": {},
   "outputs": [
    {
     "data": {
      "text/html": [
       "<div>\n",
       "<style scoped>\n",
       "    .dataframe tbody tr th:only-of-type {\n",
       "        vertical-align: middle;\n",
       "    }\n",
       "\n",
       "    .dataframe tbody tr th {\n",
       "        vertical-align: top;\n",
       "    }\n",
       "\n",
       "    .dataframe thead th {\n",
       "        text-align: right;\n",
       "    }\n",
       "</style>\n",
       "<table border=\"1\" class=\"dataframe\">\n",
       "  <thead>\n",
       "    <tr style=\"text-align: right;\">\n",
       "      <th></th>\n",
       "      <th>iso_code</th>\n",
       "      <th>country</th>\n",
       "      <th>year</th>\n",
       "      <th>electricity_demand</th>\n",
       "      <th>iso_code_2</th>\n",
       "    </tr>\n",
       "  </thead>\n",
       "  <tbody>\n",
       "    <tr>\n",
       "      <th>22341</th>\n",
       "      <td>ZWE</td>\n",
       "      <td>Zimbabwe</td>\n",
       "      <td>2020</td>\n",
       "      <td>12.22</td>\n",
       "      <td>ZW</td>\n",
       "    </tr>\n",
       "    <tr>\n",
       "      <th>22342</th>\n",
       "      <td>ZWE</td>\n",
       "      <td>Zimbabwe</td>\n",
       "      <td>2021</td>\n",
       "      <td>NaN</td>\n",
       "      <td>ZW</td>\n",
       "    </tr>\n",
       "  </tbody>\n",
       "</table>\n",
       "</div>"
      ],
      "text/plain": [
       "      iso_code   country  year  electricity_demand iso_code_2\n",
       "22341      ZWE  Zimbabwe  2020               12.22         ZW\n",
       "22342      ZWE  Zimbabwe  2021                 NaN         ZW"
      ]
     },
     "execution_count": 3,
     "metadata": {},
     "output_type": "execute_result"
    }
   ],
   "source": [
    "url = \"https://nyc3.digitaloceanspaces.com/owid-public/data/energy/owid-energy-data.csv\"\n",
    "df = pd.read_csv(url)\n",
    "df = df.loc[:, [\"iso_code\", \"country\", \"year\", \"electricity_demand\"]]\n",
    "df = df[df[\"iso_code\"].notna()]  # removes antartica\n",
    "df[\"iso_code_2\"] = df.loc[:, \"iso_code\"].apply(lambda x: three_2_two_digits_country(x))\n",
    "electricity_demand_owid = df\n",
    "electricity_demand_owid.tail(2)"
   ]
  },
  {
   "attachments": {},
   "cell_type": "markdown",
   "metadata": {},
   "source": [
    "#### PyPSA network\n",
    "\n",
    "Requires a solved or unsolved network."
   ]
  },
  {
   "cell_type": "code",
   "execution_count": 4,
   "metadata": {},
   "outputs": [
    {
     "name": "stderr",
     "output_type": "stream",
     "text": [
      "WARNING:pypsa.io:Importing network from PyPSA version v0.20.1 while current version is v0.21.1. Read the release notes at https://pypsa.readthedocs.io/en/latest/release_notes.html to prepare your network for import.\n",
      "INFO:pypsa.io:Imported network elec_s_10_ec.nc has buses, carriers, generators, lines, links, loads, storage_units, stores\n"
     ]
    },
    {
     "data": {
      "text/html": [
       "<div>\n",
       "<style scoped>\n",
       "    .dataframe tbody tr th:only-of-type {\n",
       "        vertical-align: middle;\n",
       "    }\n",
       "\n",
       "    .dataframe tbody tr th {\n",
       "        vertical-align: top;\n",
       "    }\n",
       "\n",
       "    .dataframe thead th {\n",
       "        text-align: right;\n",
       "    }\n",
       "</style>\n",
       "<table border=\"1\" class=\"dataframe\">\n",
       "  <thead>\n",
       "    <tr style=\"text-align: right;\">\n",
       "      <th>Load</th>\n",
       "      <th>NGA.10_1</th>\n",
       "      <th>NGA.12_1</th>\n",
       "      <th>NGA.14_1</th>\n",
       "      <th>NGA.15_1</th>\n",
       "      <th>NGA.16_1</th>\n",
       "      <th>NGA.19_1</th>\n",
       "      <th>NGA.1_1</th>\n",
       "      <th>NGA.20_1</th>\n",
       "      <th>NGA.21_1</th>\n",
       "      <th>NGA.22_1</th>\n",
       "      <th>NGA.23_1</th>\n",
       "      <th>NGA.25_1</th>\n",
       "      <th>NGA.27_1</th>\n",
       "      <th>NGA.28_1</th>\n",
       "      <th>NGA.29_1</th>\n",
       "      <th>NGA.2_1</th>\n",
       "      <th>NGA.30_1</th>\n",
       "      <th>NGA.31_1</th>\n",
       "      <th>NGA.32_1</th>\n",
       "      <th>NGA.33_1</th>\n",
       "      <th>NGA.34_1</th>\n",
       "      <th>NGA.36_1</th>\n",
       "      <th>NGA.37_1</th>\n",
       "      <th>NGA.3_1</th>\n",
       "      <th>NGA.4_1</th>\n",
       "      <th>NGA.5_1</th>\n",
       "      <th>NGA.7_1</th>\n",
       "      <th>NGA.8_1</th>\n",
       "      <th>NGA.9_1</th>\n",
       "    </tr>\n",
       "    <tr>\n",
       "      <th>snapshot</th>\n",
       "      <th></th>\n",
       "      <th></th>\n",
       "      <th></th>\n",
       "      <th></th>\n",
       "      <th></th>\n",
       "      <th></th>\n",
       "      <th></th>\n",
       "      <th></th>\n",
       "      <th></th>\n",
       "      <th></th>\n",
       "      <th></th>\n",
       "      <th></th>\n",
       "      <th></th>\n",
       "      <th></th>\n",
       "      <th></th>\n",
       "      <th></th>\n",
       "      <th></th>\n",
       "      <th></th>\n",
       "      <th></th>\n",
       "      <th></th>\n",
       "      <th></th>\n",
       "      <th></th>\n",
       "      <th></th>\n",
       "      <th></th>\n",
       "      <th></th>\n",
       "      <th></th>\n",
       "      <th></th>\n",
       "      <th></th>\n",
       "      <th></th>\n",
       "    </tr>\n",
       "  </thead>\n",
       "  <tbody>\n",
       "    <tr>\n",
       "      <th>2013-01-01 00:00:00</th>\n",
       "      <td>171.636469</td>\n",
       "      <td>183.434942</td>\n",
       "      <td>145.461545</td>\n",
       "      <td>91.689344</td>\n",
       "      <td>52.196037</td>\n",
       "      <td>83.509802</td>\n",
       "      <td>138.499636</td>\n",
       "      <td>196.795098</td>\n",
       "      <td>19.669185</td>\n",
       "      <td>11.047674</td>\n",
       "      <td>105.965850</td>\n",
       "      <td>657.244957</td>\n",
       "      <td>221.740007</td>\n",
       "      <td>121.027485</td>\n",
       "      <td>49.542947</td>\n",
       "      <td>41.728214</td>\n",
       "      <td>233.168879</td>\n",
       "      <td>155.677223</td>\n",
       "      <td>101.530133</td>\n",
       "      <td>368.280968</td>\n",
       "      <td>9.490249</td>\n",
       "      <td>6.662394</td>\n",
       "      <td>25.384086</td>\n",
       "      <td>93.485203</td>\n",
       "      <td>238.315408</td>\n",
       "      <td>13.515900</td>\n",
       "      <td>66.719220</td>\n",
       "      <td>58.978952</td>\n",
       "      <td>97.212018</td>\n",
       "    </tr>\n",
       "    <tr>\n",
       "      <th>2013-01-01 01:00:00</th>\n",
       "      <td>175.817140</td>\n",
       "      <td>187.902997</td>\n",
       "      <td>149.004655</td>\n",
       "      <td>93.922686</td>\n",
       "      <td>53.467412</td>\n",
       "      <td>85.543910</td>\n",
       "      <td>141.873170</td>\n",
       "      <td>201.588576</td>\n",
       "      <td>20.148281</td>\n",
       "      <td>11.316770</td>\n",
       "      <td>108.546936</td>\n",
       "      <td>673.253938</td>\n",
       "      <td>227.141086</td>\n",
       "      <td>123.975437</td>\n",
       "      <td>50.749700</td>\n",
       "      <td>42.744618</td>\n",
       "      <td>238.848338</td>\n",
       "      <td>159.469163</td>\n",
       "      <td>104.003175</td>\n",
       "      <td>377.251448</td>\n",
       "      <td>9.721409</td>\n",
       "      <td>6.824674</td>\n",
       "      <td>26.002384</td>\n",
       "      <td>95.762288</td>\n",
       "      <td>244.120225</td>\n",
       "      <td>13.845117</td>\n",
       "      <td>68.344348</td>\n",
       "      <td>60.415544</td>\n",
       "      <td>99.579880</td>\n",
       "    </tr>\n",
       "  </tbody>\n",
       "</table>\n",
       "</div>"
      ],
      "text/plain": [
       "Load                   NGA.10_1    NGA.12_1    NGA.14_1   NGA.15_1   NGA.16_1  \\\n",
       "snapshot                                                                        \n",
       "2013-01-01 00:00:00  171.636469  183.434942  145.461545  91.689344  52.196037   \n",
       "2013-01-01 01:00:00  175.817140  187.902997  149.004655  93.922686  53.467412   \n",
       "\n",
       "Load                  NGA.19_1     NGA.1_1    NGA.20_1   NGA.21_1   NGA.22_1  \\\n",
       "snapshot                                                                       \n",
       "2013-01-01 00:00:00  83.509802  138.499636  196.795098  19.669185  11.047674   \n",
       "2013-01-01 01:00:00  85.543910  141.873170  201.588576  20.148281  11.316770   \n",
       "\n",
       "Load                   NGA.23_1    NGA.25_1    NGA.27_1    NGA.28_1  \\\n",
       "snapshot                                                              \n",
       "2013-01-01 00:00:00  105.965850  657.244957  221.740007  121.027485   \n",
       "2013-01-01 01:00:00  108.546936  673.253938  227.141086  123.975437   \n",
       "\n",
       "Load                  NGA.29_1    NGA.2_1    NGA.30_1    NGA.31_1    NGA.32_1  \\\n",
       "snapshot                                                                        \n",
       "2013-01-01 00:00:00  49.542947  41.728214  233.168879  155.677223  101.530133   \n",
       "2013-01-01 01:00:00  50.749700  42.744618  238.848338  159.469163  104.003175   \n",
       "\n",
       "Load                   NGA.33_1  NGA.34_1  NGA.36_1   NGA.37_1    NGA.3_1  \\\n",
       "snapshot                                                                    \n",
       "2013-01-01 00:00:00  368.280968  9.490249  6.662394  25.384086  93.485203   \n",
       "2013-01-01 01:00:00  377.251448  9.721409  6.824674  26.002384  95.762288   \n",
       "\n",
       "Load                    NGA.4_1    NGA.5_1    NGA.7_1    NGA.8_1    NGA.9_1  \n",
       "snapshot                                                                     \n",
       "2013-01-01 00:00:00  238.315408  13.515900  66.719220  58.978952  97.212018  \n",
       "2013-01-01 01:00:00  244.120225  13.845117  68.344348  60.415544  99.579880  "
      ]
     },
     "execution_count": 4,
     "metadata": {},
     "output_type": "execute_result"
    }
   ],
   "source": [
    "solved_network_path = os.getcwd() + \"/pypsa-earth/networks/elec_s_10_ec.nc\"\n",
    "pypsa_network = pypsa.Network(solved_network_path)\n",
    "electricity_demand_pypsa = pypsa_network.loads_t.p_set\n",
    "electricity_demand_pypsa.head(2)"
   ]
  },
  {
   "attachments": {},
   "cell_type": "markdown",
   "metadata": {},
   "source": [
    "# 2. Validate\n",
    "\n",
    "#### Steps:\n",
    "- Align country coverage of dataframe\n",
    "- Pick year of interest for 'Our World in Data'\n",
    "- Align dataframe naming and temporal resolution\n",
    "- Merge dataframe\n"
   ]
  },
  {
   "attachments": {},
   "cell_type": "markdown",
   "metadata": {},
   "source": [
    "Reduce \"Our World in Data\" to contain the same countries as PyPSA"
   ]
  },
  {
   "cell_type": "code",
   "execution_count": 5,
   "metadata": {},
   "outputs": [],
   "source": [
    "country_in_network = (\n",
    "    electricity_demand_pypsa.columns.to_frame()[\"Load\"].apply(lambda x: x[0:2]).values\n",
    ")\n",
    "electricity_demand_owid_mini = electricity_demand_owid[\n",
    "    electricity_demand_owid[\"iso_code_2\"].isin(country_in_network)\n",
    "]"
   ]
  },
  {
   "attachments": {},
   "cell_type": "markdown",
   "metadata": {},
   "source": [
    "Create total electric demand in TWh from OWID for year of interest"
   ]
  },
  {
   "cell_type": "code",
   "execution_count": 6,
   "metadata": {},
   "outputs": [
    {
     "data": {
      "text/html": [
       "<div>\n",
       "<style scoped>\n",
       "    .dataframe tbody tr th:only-of-type {\n",
       "        vertical-align: middle;\n",
       "    }\n",
       "\n",
       "    .dataframe tbody tr th {\n",
       "        vertical-align: top;\n",
       "    }\n",
       "\n",
       "    .dataframe thead th {\n",
       "        text-align: right;\n",
       "    }\n",
       "</style>\n",
       "<table border=\"1\" class=\"dataframe\">\n",
       "  <thead>\n",
       "    <tr style=\"text-align: right;\">\n",
       "      <th></th>\n",
       "      <th>iso_code</th>\n",
       "      <th>country</th>\n",
       "      <th>year</th>\n",
       "      <th>electricity_demand</th>\n",
       "      <th>iso_code_2</th>\n",
       "    </tr>\n",
       "  </thead>\n",
       "  <tbody>\n",
       "    <tr>\n",
       "      <th>13490</th>\n",
       "      <td>NGA</td>\n",
       "      <td>Nigeria</td>\n",
       "      <td>2020</td>\n",
       "      <td>28.16</td>\n",
       "      <td>NG</td>\n",
       "    </tr>\n",
       "  </tbody>\n",
       "</table>\n",
       "</div>"
      ],
      "text/plain": [
       "      iso_code  country  year  electricity_demand iso_code_2\n",
       "13490      NGA  Nigeria  2020               28.16         NG"
      ]
     },
     "execution_count": 6,
     "metadata": {},
     "output_type": "execute_result"
    }
   ],
   "source": [
    "year_owid = 2020  # option\n",
    "df = electricity_demand_owid_mini\n",
    "df = df[df[\"year\"] == year_owid]\n",
    "electricity_demand_owid_mini = df\n",
    "electricity_demand_owid_mini.head(2)"
   ]
  },
  {
   "attachments": {},
   "cell_type": "markdown",
   "metadata": {},
   "source": [
    "Create total electric demand in TWh from PyPSA for chosen demand year in `config.yaml`"
   ]
  },
  {
   "cell_type": "code",
   "execution_count": 7,
   "metadata": {},
   "outputs": [],
   "source": [
    "# short the columns to only two digit (for groupby in next step)\n",
    "electricity_demand_pypsa.columns = (\n",
    "    electricity_demand_pypsa.columns.to_frame()[\"Load\"].apply(lambda x: x[0:2]).values\n",
    ")"
   ]
  },
  {
   "attachments": {},
   "cell_type": "markdown",
   "metadata": {},
   "source": [
    "Align PyPSA dataframe to 'Our World in Data'"
   ]
  },
  {
   "cell_type": "code",
   "execution_count": 8,
   "metadata": {},
   "outputs": [
    {
     "data": {
      "text/html": [
       "<div>\n",
       "<style scoped>\n",
       "    .dataframe tbody tr th:only-of-type {\n",
       "        vertical-align: middle;\n",
       "    }\n",
       "\n",
       "    .dataframe tbody tr th {\n",
       "        vertical-align: top;\n",
       "    }\n",
       "\n",
       "    .dataframe thead th {\n",
       "        text-align: right;\n",
       "    }\n",
       "</style>\n",
       "<table border=\"1\" class=\"dataframe\">\n",
       "  <thead>\n",
       "    <tr style=\"text-align: right;\">\n",
       "      <th></th>\n",
       "      <th>iso_code_2</th>\n",
       "      <th>electricity_demand</th>\n",
       "      <th>year</th>\n",
       "      <th>iso_code</th>\n",
       "      <th>country</th>\n",
       "    </tr>\n",
       "  </thead>\n",
       "  <tbody>\n",
       "    <tr>\n",
       "      <th>0</th>\n",
       "      <td>NG</td>\n",
       "      <td>46.44</td>\n",
       "      <td>2030</td>\n",
       "      <td>NGA</td>\n",
       "      <td>Nigeria</td>\n",
       "    </tr>\n",
       "  </tbody>\n",
       "</table>\n",
       "</div>"
      ],
      "text/plain": [
       "  iso_code_2  electricity_demand  year iso_code  country\n",
       "0         NG               46.44  2030      NGA  Nigeria"
      ]
     },
     "execution_count": 8,
     "metadata": {},
     "output_type": "execute_result"
    }
   ],
   "source": [
    "import yaml\n",
    "\n",
    "with open(\"pypsa-earth/config.yaml\", \"r\") as file:\n",
    "    config = yaml.safe_load(file)\n",
    "\n",
    "df = electricity_demand_pypsa\n",
    "df = pd.DataFrame(\n",
    "    (df.sum().T.groupby([df.columns]).sum() / 10**6).round(2)\n",
    ")  # MWh to TWh\n",
    "df = df.reset_index()\n",
    "df = df.rename(columns={0: \"electricity_demand\", \"index\": \"iso_code_2\"})\n",
    "df[\"year\"] = config[\"load_options\"][\"prediction_year\"]\n",
    "df[\"iso_code\"] = df.loc[:, \"iso_code_2\"].apply(lambda x: two_2_three_digits_country(x))\n",
    "\n",
    "map_dic = pd.Series(\n",
    "    electricity_demand_owid_mini.country.values,\n",
    "    index=electricity_demand_owid_mini.iso_code_2,\n",
    ").to_dict()\n",
    "df[\"country\"] = df[\"iso_code_2\"].map(map_dic)\n",
    "electricity_demand_pypsa = df\n",
    "electricity_demand_pypsa.head(2)"
   ]
  },
  {
   "attachments": {},
   "cell_type": "markdown",
   "metadata": {},
   "source": [
    "Merge dataframes"
   ]
  },
  {
   "cell_type": "code",
   "execution_count": 9,
   "metadata": {},
   "outputs": [],
   "source": [
    "h = config[\"load_options\"][\"prediction_year\"]\n",
    "electricity_demand_pypsa[\"source\"] = f\"PyPSA {h}\"\n",
    "electricity_demand_owid_mini[\"source\"] = f\"Our World in Data {year_owid}\"\n",
    "df_merge = pd.concat([electricity_demand_pypsa, electricity_demand_owid_mini])"
   ]
  },
  {
   "cell_type": "code",
   "execution_count": 10,
   "metadata": {},
   "outputs": [
    {
     "data": {
      "image/png": "[encoded data removed]",
      "text/plain": [
       "<Figure size 3788.38x800 with 1 Axes>"
      ]
     },
     "metadata": {},
     "output_type": "display_data"
    }
   ],
   "source": [
    "import seaborn as sns\n",
    "import matplotlib.pyplot as plt\n",
    "\n",
    "\n",
    "sns.set_theme(style=\"whitegrid\", font_scale=2.5)\n",
    "\n",
    "# shorten names\n",
    "df_merge.loc[df_merge[\"country\"] == \"Democratic Republic of Congo\", \"country\"] = \"DRC\"\n",
    "df_merge.loc[df_merge[\"country\"] == \"Central African Republic\", \"country\"] = \"CAR\"\n",
    "\n",
    "# split dataframe. No equal split possible since 'Our World in Data' misses \"EH\" == Western Sahara\n",
    "df_merge1 = (\n",
    "    df_merge.sort_values(\"country\").iloc[0:46].sort_values(\"source\", ascending=False)\n",
    ")\n",
    "df_merge2 = (\n",
    "    df_merge.sort_values(\"country\")\n",
    "    .iloc[46:]\n",
    "    .sort_values(\"source\", ascending=False)\n",
    "    .sort_values(\"country\")\n",
    ")\n",
    "\n",
    "# Initialize the matplotlib figure\n",
    "ax = sns.catplot(\n",
    "    x=\"country\",\n",
    "    y=\"electricity_demand\",\n",
    "    hue=\"source\",\n",
    "    data=df_merge1,\n",
    "    palette=\"Blues_d\",\n",
    "    kind=\"bar\",\n",
    "    height=8,\n",
    "    aspect=4,\n",
    ")\n",
    "ax.set_xticklabels(rotation=90)\n",
    "sns.move_legend(ax, \"upper right\", bbox_to_anchor=(0.85, 0.9), frameon=True, title=None)\n",
    "sns.despine(left=True, bottom=True)\n",
    "ax.set(xlabel=None, ylabel=\"Annual Electricity demand [TWh]\", ylim=(0, 500))\n",
    "ax.savefig(\"demand-validation-part1.pdf\", bbox_inches=\"tight\")\n",
    "\n",
    "# ax = sns.catplot(\n",
    "#    x=\"country\",\n",
    "#    y=\"electricity_demand\",\n",
    "#    hue=\"source\",\n",
    "#    data=df_merge2,\n",
    "#    palette=\"Blues_d\",\n",
    "#    kind=\"bar\",\n",
    "#    height=8,\n",
    "#    aspect=4,\n",
    "#)\n",
    "#ax.set_xticklabels(rotation=90)\n",
    "#sns.move_legend(ax, \"upper right\", bbox_to_anchor=(0.85, 0.9), frameon=True, title=None)\n",
    "#sns.despine(left=True, bottom=True)\n",
    "#ax.set(xlabel=None, ylabel=\"Annual Electricity Demand [TWh]\", ylim=(0, 500))\n",
    "#ax.savefig(\"demand-validation-part2.pdf\", bbox_inches=\"tight\")\n",
    "\n",
    "\n",
    "#sns.set_theme(style=\"whitegrid\", font_scale=3.3)\n",
    "#ax = sns.catplot(\n",
    "#    x=\"country\",\n",
    "#    y=\"electricity_demand\",\n",
    "#    hue=\"source\",\n",
    "#    data=df_merge,\n",
    "#    palette=\"Blues_d\",\n",
    "#    kind=\"bar\",\n",
    "#    height=8,\n",
    "#    aspect=4,\n",
    "#)\n",
    "\n",
    "#ax.set_xticklabels(rotation=90)\n",
    "#sns.move_legend(\n",
    "#    ax, \"upper right\", bbox_to_anchor=(0.75, 0.94), frameon=True, title=None\n",
    "#)\n",
    "#sns.despine(left=True, bottom=False)\n",
    "#ax.set(xlabel=None, ylabel=\"Electricity Demand [TWh/a]\", ylim=(0, 500))\n",
    "#ax.savefig(\"demand-validation-part.pdf\", bbox_inches='tight')"
   ]
  },
  {
   "cell_type": "code",
   "execution_count": 11,
   "metadata": {},
   "outputs": [
    {
     "name": "stderr",
     "output_type": "stream",
     "text": [
      "/tmp/ipykernel_26116/4278182372.py:4: FutureWarning: The default value of numeric_only in DataFrameGroupBy.sum is deprecated. In a future version, numeric_only will default to False. Either specify numeric_only or select only columns which should be valid for the function.\n",
      "  df_merge.groupby(by=\"source\").sum().drop(columns=\"year\").reset_index()\n"
     ]
    },
    {
     "data": {
      "text/html": [
       "<div>\n",
       "<style scoped>\n",
       "    .dataframe tbody tr th:only-of-type {\n",
       "        vertical-align: middle;\n",
       "    }\n",
       "\n",
       "    .dataframe tbody tr th {\n",
       "        vertical-align: top;\n",
       "    }\n",
       "\n",
       "    .dataframe thead th {\n",
       "        text-align: right;\n",
       "    }\n",
       "</style>\n",
       "<table border=\"1\" class=\"dataframe\">\n",
       "  <thead>\n",
       "    <tr style=\"text-align: right;\">\n",
       "      <th></th>\n",
       "      <th>source</th>\n",
       "      <th>electricity_demand</th>\n",
       "    </tr>\n",
       "  </thead>\n",
       "  <tbody>\n",
       "    <tr>\n",
       "      <th>0</th>\n",
       "      <td>Our World in Data 2020</td>\n",
       "      <td>28.16</td>\n",
       "    </tr>\n",
       "    <tr>\n",
       "      <th>1</th>\n",
       "      <td>PyPSA 2030</td>\n",
       "      <td>46.44</td>\n",
       "    </tr>\n",
       "    <tr>\n",
       "      <th>0</th>\n",
       "      <td>IRENA 2030</td>\n",
       "      <td>1924.00</td>\n",
       "    </tr>\n",
       "    <tr>\n",
       "      <th>1</th>\n",
       "      <td>Alova et al. 2030</td>\n",
       "      <td>1877.00</td>\n",
       "    </tr>\n",
       "  </tbody>\n",
       "</table>\n",
       "</div>"
      ],
      "text/plain": [
       "                   source  electricity_demand\n",
       "0  Our World in Data 2020               28.16\n",
       "1              PyPSA 2030               46.44\n",
       "0              IRENA 2030             1924.00\n",
       "1       Alova et al. 2030             1877.00"
      ]
     },
     "execution_count": 11,
     "metadata": {},
     "output_type": "execute_result"
    },
    {
     "data": {
      "image/png": "[encoded data removed]",
      "text/plain": [
       "<Figure size 640x480 with 1 Axes>"
      ]
     },
     "metadata": {},
     "output_type": "display_data"
    }
   ],
   "source": [
    "sns.set_theme(style=\"whitegrid\", font_scale=1)\n",
    "\n",
    "african_total_consumption = (\n",
    "    df_merge.groupby(by=\"source\").sum().drop(columns=\"year\").reset_index()\n",
    ")\n",
    "extra = pd.DataFrame(\n",
    "    data={\n",
    "        \"source\": [\"IRENA 2030\", \"Alova et al. 2030\"],\n",
    "        \"electricity_demand\": [1004 + 920, 1877],\n",
    "    }\n",
    ")\n",
    "# https://www.irena.org/-/media/Files/IRENA/Agency/Publication/2015/IRENA_Africa_2030_REmap_2015_low-res.pdf\n",
    "# https://www.nature.com/articles/s41560-020-00755-9\n",
    "\n",
    "african_total_consumption = pd.concat([african_total_consumption, extra])\n",
    "african_total_consumption.plot.scatter(\n",
    "    x=\"source\", y=\"electricity_demand\", s=\"electricity_demand\"\n",
    ")\n",
    "african_total_consumption"
   ]
  }
 ],
 "metadata": {
  "kernelspec": {
   "display_name": "Python 3.9.15 ('pypsa-earth')",
   "language": "python",
   "name": "python3"
  },
  "language_info": {
   "codemirror_mode": {
    "name": "ipython",
    "version": 3
   },
   "file_extension": ".py",
   "mimetype": "text/x-python",
   "name": "python",
   "nbconvert_exporter": "python",
   "pygments_lexer": "ipython3",
   "version": "3.9.15"
  },
  "vscode": {
   "interpreter": {
    "hash": "4bfd0647aac9d6062a08fe26bbfffd40985f1731d368a98fdd492e2c963157f6"
   }
  }
 },
 "nbformat": 4,
 "nbformat_minor": 4
}
