{
 "cells": [
  {
   "attachments": {},
   "cell_type": "markdown",
   "metadata": {},
   "source": [
    "# Solvers comparison\n",
    "\n",
    "This notebook aims at providing a template to perform comparisons in computational time between different solvers.\n",
    "To use this notebook, the user is expected to run the following procedure:\n",
    "1. Setup the config.yaml file for the simulation\n",
    "2. For every solver 'solver' under consideration:\n",
    "   1. Setup the solver option in the config.yaml file \n",
    "   2. Run the workflow with snakemake\n",
    "   3. Rename the folder benchmarks/solve_network into benchmarks/solve_network_{solver}\n",
    "   4. Rename the folder results into results_{solver}\n",
    "3. Modify the list 'solver_to_compare' below to specify the solvers to consider\n",
    "4. Run the notebook"
   ]
  },
  {
   "attachments": {},
   "cell_type": "markdown",
   "metadata": {},
   "source": [
    "## Change the current directory to the main package folder"
   ]
  },
  {
   "cell_type": "code",
   "execution_count": 1,
   "metadata": {},
   "outputs": [],
   "source": [
    "# change current directory to parent folder\n",
    "import os\n",
    "import sys\n",
    "\n",
    "if not os.path.isdir(\"pypsa-earth\"):\n",
    "    os.chdir(\"../..\")\n",
    "sys.path.append(os.getcwd()+\"/pypsa-earth/scripts\")"
   ]
  },
  {
   "attachments": {},
   "cell_type": "markdown",
   "metadata": {},
   "source": [
    "## Specify the solvers to compare"
   ]
  },
  {
   "cell_type": "code",
   "execution_count": 2,
   "metadata": {},
   "outputs": [],
   "source": [
    "# list of solvers to compare\n",
    "solvers_to_compare = [\"gurobi\", \"highs\"]\n",
    "\n",
    "# list of configurations to compare and their description\n",
    "configs_to_compare = {\n",
    "    \"elec_s_10_ec_lcopt_Co2L-1H\": 10,  # \"10-cluster\",\n",
    "    \"elec_s_20_ec_lcopt_Co2L-1H\": 20,  # \"20-cluster\",\n",
    "    \"elec_s_54_ec_lcopt_Co2L-1H\": 54,  # \"54-cluster\",\n",
    "}"
   ]
  },
  {
   "attachments": {},
   "cell_type": "markdown",
   "metadata": {},
   "source": [
    "## Import packages"
   ]
  },
  {
   "cell_type": "code",
   "execution_count": 3,
   "metadata": {},
   "outputs": [],
   "source": [
    "import pandas as pd\n",
    "import matplotlib.pyplot as plt\n",
    "import pypsa"
   ]
  },
  {
   "attachments": {},
   "cell_type": "markdown",
   "metadata": {},
   "source": [
    "## Compare computational resources\n",
    "### Preload input data"
   ]
  },
  {
   "cell_type": "code",
   "execution_count": 4,
   "metadata": {},
   "outputs": [],
   "source": [
    "comp_time_by_solver = []\n",
    "\n",
    "for solver in solvers_to_compare:\n",
    "    for conf_name, conf_desc in configs_to_compare.items():\n",
    "        tempdata = pd.read_csv(\n",
    "            \"pypsa-earth/benchmarks/solve_network_\" + solver + \"/\" + conf_name, delimiter=\"\\t\"\n",
    "        )\n",
    "        comp_time_by_solver.append(\n",
    "            [solver, conf_desc, conf_name] + list(tempdata.values[0])\n",
    "        )\n",
    "\n",
    "comp_time_by_solver = pd.DataFrame(\n",
    "    comp_time_by_solver,\n",
    "    columns=[\n",
    "        \"solver\",\n",
    "        \"config\",\n",
    "        \"filename\",\n",
    "        \"s\",\n",
    "        \"h:m:s\",\n",
    "        \"max_rss\",\n",
    "        \"max_vms\",\n",
    "        \"max_uss\",\n",
    "        \"max_pss\",\n",
    "        \"io_in\",\n",
    "        \"io_out\",\n",
    "        \"mean_load\",\n",
    "        \"cpu_time\",\n",
    "    ],\n",
    ")"
   ]
  },
  {
   "attachments": {},
   "cell_type": "markdown",
   "metadata": {},
   "source": [
    "### Total computational time"
   ]
  },
  {
   "cell_type": "code",
   "execution_count": 5,
   "metadata": {},
   "outputs": [],
   "source": [
    "for solver in solvers_to_compare:\n",
    "    plt.plot(\n",
    "        configs_to_compare.values(),\n",
    "        comp_time_by_solver.loc[comp_time_by_solver[\"solver\"] == solver, \"s\"] / 3600,\n",
    "        linestyle=\"dashed\",\n",
    "        marker=\"x\",\n",
    "        label=solver,\n",
    "    )\n",
    "plt.ylabel(\"Comp. time [h]\")\n",
    "plt.yscale(\"log\")\n",
    "plt.grid()\n",
    "plt.legend()\n",
    "plt.xlabel(\"Number of clusters\")"
   ]
  },
  {
   "attachments": {},
   "cell_type": "markdown",
   "metadata": {},
   "source": [
    "### Total workload"
   ]
  },
  {
   "cell_type": "code",
   "execution_count": 6,
   "metadata": {},
   "outputs": [],
   "source": [
    "for solver in solvers_to_compare:\n",
    "    plt.plot(\n",
    "        configs_to_compare.values(),\n",
    "        comp_time_by_solver.loc[\n",
    "            comp_time_by_solver[\"solver\"] == solver, [\"s\", \"mean_load\"]\n",
    "        ].product(axis=1)\n",
    "        / 3600\n",
    "        / 100,\n",
    "        label=solver,\n",
    "        linestyle=\"dashed\",\n",
    "        marker=\"x\",\n",
    "    )\n",
    "plt.ylabel(\"Workload [h * avg load]\")\n",
    "plt.yscale(\"log\")\n",
    "plt.grid()\n",
    "plt.legend()\n",
    "plt.xlabel(\"Number of clusters\")"
   ]
  },
  {
   "attachments": {},
   "cell_type": "markdown",
   "metadata": {},
   "source": [
    "### Total workload & computational time"
   ]
  },
  {
   "cell_type": "code",
   "execution_count": 7,
   "metadata": {},
   "outputs": [],
   "source": [
    "# Plot computational time\n",
    "for solver in solvers_to_compare:\n",
    "    plt.plot(\n",
    "        configs_to_compare.values(),\n",
    "        comp_time_by_solver.loc[comp_time_by_solver[\"solver\"] == solver, \"s\"] / 3600,\n",
    "        linestyle=\"dashed\",\n",
    "        marker=\"x\",\n",
    "        label=solver,\n",
    "    )\n",
    "\n",
    "# plt.yscale(\"log\")\n",
    "plt.ylabel(\"Comp. time [h]\")\n",
    "plt.legend()\n",
    "# Plot workload on right y axis\n",
    "ax2 = plt.twinx()\n",
    "for solver in solvers_to_compare:\n",
    "    ax2.plot(\n",
    "        configs_to_compare.values(),\n",
    "        comp_time_by_solver.loc[\n",
    "            comp_time_by_solver[\"solver\"] == solver, [\"s\", \"mean_load\"]\n",
    "        ].product(axis=1)\n",
    "        / 3600\n",
    "        / 100,\n",
    "        label=solver,\n",
    "        linestyle=\"dotted\",\n",
    "        marker=\"o\",\n",
    "    )\n",
    "ax2.legend(loc=1)\n",
    "# plt.yscale(\"log\")\n",
    "plt.ylabel(\"Workload [h * avg load]\")\n",
    "plt.xlabel(\"Number of clusters\")"
   ]
  },
  {
   "attachments": {},
   "cell_type": "markdown",
   "metadata": {},
   "source": [
    "### Maximum virtual memory"
   ]
  },
  {
   "cell_type": "code",
   "execution_count": 8,
   "metadata": {},
   "outputs": [],
   "source": [
    "for solver in solvers_to_compare:\n",
    "    plt.plot(\n",
    "        configs_to_compare.values(),\n",
    "        comp_time_by_solver.loc[comp_time_by_solver[\"solver\"] == solver, \"max_vms\"]\n",
    "        / 1000,\n",
    "        label=solver,\n",
    "        linestyle=\"dotted\",\n",
    "        marker=\"o\",\n",
    "    )\n",
    "plt.ylabel(\"Memory [GB]\")\n",
    "# plt.yscale(\"log\")\n",
    "plt.grid()\n",
    "plt.legend()\n",
    "plt.xlabel(\"Number of clusters\")"
   ]
  },
  {
   "attachments": {},
   "cell_type": "markdown",
   "metadata": {},
   "source": [
    "### Total workload & memory"
   ]
  },
  {
   "cell_type": "code",
   "execution_count": 9,
   "metadata": {},
   "outputs": [],
   "source": [
    "plt.figure(figsize=(6, 3))\n",
    "\n",
    "# Plot workload\n",
    "for solver in solvers_to_compare:\n",
    "    plt.plot(\n",
    "        configs_to_compare.values(),\n",
    "        comp_time_by_solver.loc[\n",
    "            comp_time_by_solver[\"solver\"] == solver, [\"s\", \"mean_load\"]\n",
    "        ].product(axis=1)\n",
    "        / 3600\n",
    "        / 100,\n",
    "        label=solver,\n",
    "        linestyle=\"solid\",\n",
    "        marker=\"s\",\n",
    "    )\n",
    "\n",
    "plt.yscale(\"log\")\n",
    "plt.ylabel(\"Solution time [h]\")\n",
    "plt.xlabel(\"Number of clusters\")\n",
    "plt.legend(title=\"Solution time\")\n",
    "# Plot workload on right y axis\n",
    "ax2 = plt.twinx()\n",
    "for solver in solvers_to_compare:\n",
    "    plt.plot(\n",
    "        configs_to_compare.values(),\n",
    "        comp_time_by_solver.loc[comp_time_by_solver[\"solver\"] == solver, \"max_vms\"]\n",
    "        / 1000,\n",
    "        label=solver,\n",
    "        linestyle=\"dotted\",\n",
    "        marker=\".\",\n",
    "    )\n",
    "plt.ylabel(\"Memory [GB]\")\n",
    "ax2.legend(title=\"Memory\", loc=1)\n",
    "# plt.yscale('log')\n",
    "#\n",
    "plt.tight_layout()\n",
    "plt.savefig(\"solver_comparison.pdf\")"
   ]
  },
  {
   "attachments": {},
   "cell_type": "markdown",
   "metadata": {},
   "source": [
    "## Comparison of the solutions\n",
    "### Preload results"
   ]
  },
  {
   "cell_type": "code",
   "execution_count": 10,
   "metadata": {},
   "outputs": [],
   "source": [
    "comp_results_by_solver = []\n",
    "\n",
    "for solver in solvers_to_compare:\n",
    "    for conf_name, conf_desc in configs_to_compare.items():\n",
    "        n = pypsa.Network(\"pypsa-earth/results_\" + solver + \"/networks/\" + conf_name + \".nc\")\n",
    "        comp_results_by_solver.append(\n",
    "            [solver, conf_desc, conf_name] + [n.objective, n.generators.p_nom_opt.sum()]\n",
    "        )\n",
    "\n",
    "comp_results_by_solver = pd.DataFrame(\n",
    "    comp_results_by_solver,\n",
    "    columns=[\"solver\", \"config\", \"filename\", \"objective\", \"p_nom_opt\"],\n",
    ")"
   ]
  },
  {
   "attachments": {},
   "cell_type": "markdown",
   "metadata": {},
   "source": [
    "### Plot of objective function"
   ]
  },
  {
   "cell_type": "code",
   "execution_count": 11,
   "metadata": {},
   "outputs": [],
   "source": [
    "for solver in solvers_to_compare:\n",
    "    plt.plot(\n",
    "        configs_to_compare.values(),\n",
    "        comp_results_by_solver.loc[\n",
    "            comp_results_by_solver[\"solver\"] == solver, \"objective\"\n",
    "        ]\n",
    "        / 1e6,\n",
    "        label=solver,\n",
    "    )\n",
    "plt.ylabel(\"Annualized cost [M\\$/y]\")\n",
    "# plt.yscale('log')\n",
    "plt.grid()\n",
    "plt.legend()\n",
    "plt.xlabel(\"Number of clusters\")"
   ]
  }
 ],
 "metadata": {
  "kernelspec": {
   "display_name": "Python 3.9.15 ('pypsa-earth')",
   "language": "python",
   "name": "python3"
  },
  "language_info": {
   "codemirror_mode": {
    "name": "ipython",
    "version": 3
   },
   "file_extension": ".py",
   "mimetype": "text/x-python",
   "name": "python",
   "nbconvert_exporter": "python",
   "pygments_lexer": "ipython3",
   "version": "3.9.15"
  },
  "orig_nbformat": 4,
  "vscode": {
   "interpreter": {
    "hash": "4bfd0647aac9d6062a08fe26bbfffd40985f1731d368a98fdd492e2c963157f6"
   }
  }
 },
 "nbformat": 4,
 "nbformat_minor": 2
}
